{
 "cells": [
  {
   "cell_type": "markdown",
   "metadata": {},
   "source": [
    "# Input and Output"
   ]
  },
  {
   "cell_type": "code",
   "execution_count": 85,
   "metadata": {},
   "outputs": [],
   "source": [
    "import numpy as np"
   ]
  },
  {
   "cell_type": "markdown",
   "metadata": {},
   "source": [
    "There are many ways to write files in python. The default way, while general, is not the most suitable for most scientific applications. In science, we tend to have very structured data. We will take advantage of that to simplify our IO (input/output)"
   ]
  },
  {
   "cell_type": "markdown",
   "metadata": {},
   "source": [
    "## The standard way"
   ]
  },
  {
   "cell_type": "markdown",
   "metadata": {},
   "source": [
    "Here, first we will open a _file handler_, then write some stuff inside and finally close it. We will not use it again for ther rest of this course."
   ]
  },
  {
   "cell_type": "code",
   "execution_count": 86,
   "metadata": {},
   "outputs": [],
   "source": [
    "#open a file called \"test.dat\", where we will write some data\n",
    "f = open(\"03_standard_way.dat\", \"w\") #here \"w\" means we are going to *write* the file. You can replace it by \"r\" to read, and \"r+\" for appending"
   ]
  },
  {
   "cell_type": "code",
   "execution_count": 87,
   "metadata": {},
   "outputs": [],
   "source": [
    "a = np.linspace(0, 1) #Generate some data \n",
    "for x in a:\n",
    "    f.write(str(x) + \"\\n\") # We need to convert the number into a string. We will also add an \"end-of-line\" character"
   ]
  },
  {
   "cell_type": "code",
   "execution_count": 88,
   "metadata": {},
   "outputs": [],
   "source": [
    "f.close() # The file needs to be closed to guarantee all data has been written"
   ]
  },
  {
   "cell_type": "markdown",
   "metadata": {},
   "source": [
    "Now, lets read this back into our program. We will first read the whole file into an array, and then convert that data into floats."
   ]
  },
  {
   "cell_type": "code",
   "execution_count": 89,
   "metadata": {},
   "outputs": [
    {
     "name": "stdout",
     "output_type": "stream",
     "text": [
      "['0.0\\n', '0.02040816326530612\\n', '0.04081632653061224\\n', '0.061224489795918366\\n', '0.08163265306122448\\n', '0.1020408163265306\\n', '0.12244897959183673\\n', '0.14285714285714285\\n', '0.16326530612244897\\n', '0.18367346938775508\\n', '0.2040816326530612\\n', '0.22448979591836732\\n', '0.24489795918367346\\n', '0.26530612244897955\\n', '0.2857142857142857\\n', '0.3061224489795918\\n', '0.32653061224489793\\n', '0.3469387755102041\\n', '0.36734693877551017\\n', '0.3877551020408163\\n', '0.4081632653061224\\n', '0.42857142857142855\\n', '0.44897959183673464\\n', '0.4693877551020408\\n', '0.4897959183673469\\n', '0.5102040816326531\\n', '0.5306122448979591\\n', '0.5510204081632653\\n', '0.5714285714285714\\n', '0.5918367346938775\\n', '0.6122448979591836\\n', '0.6326530612244897\\n', '0.6530612244897959\\n', '0.673469387755102\\n', '0.6938775510204082\\n', '0.7142857142857142\\n', '0.7346938775510203\\n', '0.7551020408163265\\n', '0.7755102040816326\\n', '0.7959183673469387\\n', '0.8163265306122448\\n', '0.836734693877551\\n', '0.8571428571428571\\n', '0.8775510204081632\\n', '0.8979591836734693\\n', '0.9183673469387754\\n', '0.9387755102040816\\n', '0.9591836734693877\\n', '0.9795918367346939\\n', '1.0\\n']\n"
     ]
    }
   ],
   "source": [
    "f_in = open(\"03_standard_way.dat\", \"r\")\n",
    "a = f_in.readlines()\n",
    "print(a)"
   ]
  },
  {
   "cell_type": "markdown",
   "metadata": {},
   "source": [
    "Currently, the data is contained in strings. Normally we don't want this, but rather as numbers. We got some converting to do!"
   ]
  },
  {
   "cell_type": "code",
   "execution_count": 90,
   "metadata": {},
   "outputs": [
    {
     "name": "stdout",
     "output_type": "stream",
     "text": [
      "[0.         0.02040816 0.04081633 0.06122449 0.08163265 0.10204082\n",
      " 0.12244898 0.14285714 0.16326531 0.18367347 0.20408163 0.2244898\n",
      " 0.24489796 0.26530612 0.28571429 0.30612245 0.32653061 0.34693878\n",
      " 0.36734694 0.3877551  0.40816327 0.42857143 0.44897959 0.46938776\n",
      " 0.48979592 0.51020408 0.53061224 0.55102041 0.57142857 0.59183673\n",
      " 0.6122449  0.63265306 0.65306122 0.67346939 0.69387755 0.71428571\n",
      " 0.73469388 0.75510204 0.7755102  0.79591837 0.81632653 0.83673469\n",
      " 0.85714286 0.87755102 0.89795918 0.91836735 0.93877551 0.95918367\n",
      " 0.97959184 1.        ]\n"
     ]
    }
   ],
   "source": [
    "a_float = []\n",
    "for x in a:\n",
    "    a_float.append(float(x)) #Convert x to float and then add to the new list\n",
    "    \n",
    "a_float = np.array(a_float) #Convert a_float into a numpy array\n",
    "print(a_float)"
   ]
  },
  {
   "cell_type": "markdown",
   "metadata": {},
   "source": [
    "### Task: Write a cell that writes a matrix"
   ]
  },
  {
   "cell_type": "markdown",
   "metadata": {},
   "source": [
    "1. Generate a matrix using `m = np.random.rand(5,6)`\n",
    "2. Open a file called `03_standard_matrix.dat`\n",
    "3. Write a loop to write a single row of the matrix. Remember to add an empty space (\" \") between entries!\n",
    "4. Write an external loop to finish each line with an end-of-line (\"\\n\")\n",
    "5. Close the file\n",
    "\n"
   ]
  },
  {
   "cell_type": "code",
   "execution_count": 91,
   "metadata": {},
   "outputs": [],
   "source": [
    "m = np.random.rand(5,6)\n",
    "f = open(\"03_standard_matrix.dat\", \"w\")\n",
    "for i in range(5):\n",
    "    for j in range(6):\n",
    "        f.write(str(m[i,j]) + \" \")\n",
    "    f.write(\"\\n\")\n",
    "f.close()"
   ]
  },
  {
   "cell_type": "markdown",
   "metadata": {},
   "source": [
    "**Bonus task**: Read the matrix back"
   ]
  },
  {
   "cell_type": "markdown",
   "metadata": {},
   "source": [
    "#### Bonus content:\n",
    "\n",
    "As this open-use-close structure is so common, Python has the `with` command, which simplifies a bit this loop"
   ]
  },
  {
   "cell_type": "code",
   "execution_count": 92,
   "metadata": {},
   "outputs": [],
   "source": [
    "m = np.random.rand(5,6)\n",
    "with open(\"03_standard_matrix.dat\", \"w\") as f:\n",
    "    for i in range(5):\n",
    "        for j in range(6):\n",
    "            f.write(str(m[i,j]) + \" \")\n",
    "        f.write(\"\\n\")"
   ]
  },
  {
   "cell_type": "markdown",
   "metadata": {},
   "source": [
    "Now, the file usage is clearly local, and it is closed automatically! Slightly better, but still a lot of work.\n",
    "\n",
    "\n",
    "----- End of bonux content -----"
   ]
  },
  {
   "cell_type": "markdown",
   "metadata": {},
   "source": [
    "That was quite a lot of work to read the file! We can grandly simplify this by using the Numpy functions `savetxt` and `loadtxt`!"
   ]
  },
  {
   "cell_type": "markdown",
   "metadata": {},
   "source": [
    "## The Numpy way: `savetxt` and `loadtxt`"
   ]
  },
  {
   "cell_type": "markdown",
   "metadata": {},
   "source": [
    "Numpy has two sibling functions, called `savetxt` and `loadtxt`. The names are rather self explanatory: they save and load data to/from plain text files. \n",
    "\n",
    "Plain text has a serious advantage in relation to every other file format: They are extremely simple to read. You can expect your file to be readable in any computer ever produced, and any future produced computer. This is a great advantage, but it also has some disadvantages. First and foremost, it is relatively unstructured, carrying little metadata. Additionally, it can be a surprisingly inneficient way to store data. We will talk about more data formats later."
   ]
  },
  {
   "cell_type": "code",
   "execution_count": 93,
   "metadata": {},
   "outputs": [
    {
     "name": "stdout",
     "output_type": "stream",
     "text": [
      "[0.         0.02040816 0.04081633 0.06122449 0.08163265 0.10204082\n",
      " 0.12244898 0.14285714 0.16326531 0.18367347 0.20408163 0.2244898\n",
      " 0.24489796 0.26530612 0.28571429 0.30612245 0.32653061 0.34693878\n",
      " 0.36734694 0.3877551  0.40816327 0.42857143 0.44897959 0.46938776\n",
      " 0.48979592 0.51020408 0.53061224 0.55102041 0.57142857 0.59183673\n",
      " 0.6122449  0.63265306 0.65306122 0.67346939 0.69387755 0.71428571\n",
      " 0.73469388 0.75510204 0.7755102  0.79591837 0.81632653 0.83673469\n",
      " 0.85714286 0.87755102 0.89795918 0.91836735 0.93877551 0.95918367\n",
      " 0.97959184 1.        ]\n"
     ]
    }
   ],
   "source": [
    "a = np.linspace(0, 1) #Generate some data \n",
    "np.savetxt(\"03_python_way.dat\", a) #Save our data into a file\n",
    "print(a)"
   ]
  },
  {
   "cell_type": "code",
   "execution_count": 94,
   "metadata": {},
   "outputs": [
    {
     "name": "stdout",
     "output_type": "stream",
     "text": [
      "[0.         0.02040816 0.04081633 0.06122449 0.08163265 0.10204082\n",
      " 0.12244898 0.14285714 0.16326531 0.18367347 0.20408163 0.2244898\n",
      " 0.24489796 0.26530612 0.28571429 0.30612245 0.32653061 0.34693878\n",
      " 0.36734694 0.3877551  0.40816327 0.42857143 0.44897959 0.46938776\n",
      " 0.48979592 0.51020408 0.53061224 0.55102041 0.57142857 0.59183673\n",
      " 0.6122449  0.63265306 0.65306122 0.67346939 0.69387755 0.71428571\n",
      " 0.73469388 0.75510204 0.7755102  0.79591837 0.81632653 0.83673469\n",
      " 0.85714286 0.87755102 0.89795918 0.91836735 0.93877551 0.95918367\n",
      " 0.97959184 1.        ]\n"
     ]
    }
   ],
   "source": [
    "b = np.loadtxt(\"03_python_way.dat\")\n",
    "print(b)"
   ]
  },
  {
   "cell_type": "markdown",
   "metadata": {},
   "source": [
    "Muuuch easier than before! It only takes a single command to do what took us 5 lines to do beforehand. And that scales well for other formats as well. If you want to do the same thing for a matrix, little would change!"
   ]
  },
  {
   "cell_type": "code",
   "execution_count": 95,
   "metadata": {},
   "outputs": [
    {
     "name": "stdout",
     "output_type": "stream",
     "text": [
      "[[0.30858072 0.14943803 0.72530661 0.23654462 0.90237324 0.26844437]\n",
      " [0.58850649 0.114349   0.04627874 0.26475038 0.66429396 0.68570908]\n",
      " [0.49651972 0.63779162 0.81619905 0.64085929 0.3121698  0.20809521]\n",
      " [0.64026878 0.85821003 0.80721423 0.55544774 0.95304777 0.58110973]\n",
      " [0.62464309 0.15294107 0.94310223 0.81161621 0.55600159 0.10457878]]\n"
     ]
    }
   ],
   "source": [
    "m = np.random.rand(5, 6)\n",
    "np.savetxt(\"03_python_way_matrix.dat\", m) #Save our data into a file\n",
    "print(m)"
   ]
  },
  {
   "cell_type": "code",
   "execution_count": 96,
   "metadata": {},
   "outputs": [],
   "source": [
    "m2 = np.loadtxt(\"03_python_way_matrix.dat\")"
   ]
  },
  {
   "cell_type": "code",
   "execution_count": 97,
   "metadata": {},
   "outputs": [
    {
     "name": "stdout",
     "output_type": "stream",
     "text": [
      "[[0.30858072 0.14943803 0.72530661 0.23654462 0.90237324 0.26844437]\n",
      " [0.58850649 0.114349   0.04627874 0.26475038 0.66429396 0.68570908]\n",
      " [0.49651972 0.63779162 0.81619905 0.64085929 0.3121698  0.20809521]\n",
      " [0.64026878 0.85821003 0.80721423 0.55544774 0.95304777 0.58110973]\n",
      " [0.62464309 0.15294107 0.94310223 0.81161621 0.55600159 0.10457878]]\n"
     ]
    }
   ],
   "source": [
    "print(m2)"
   ]
  },
  {
   "cell_type": "markdown",
   "metadata": {},
   "source": [
    "### Multiple datasets per file"
   ]
  },
  {
   "cell_type": "markdown",
   "metadata": {},
   "source": [
    "One of the main disadvantages of the plain-text format is the lack of data organization/metadata. When adding multiple arrays, one can organize them into columns, add a header. This is a good, even if not ideal solution. But what about the case when one has several matrices, perhaps of different sizes? \n",
    "\n",
    "In this case, we commonly use the npz format. This file has some advantages over the plain text:\n",
    "\n",
    "1. It can save the name as well as the data itself\n",
    "2. It can be compressed, taking less space\n",
    "3. It is binary, meaning no loss of precision\n",
    "\n",
    "They are mostly associated with numpy, but there are several libraries to read them in other programming languages as well. "
   ]
  },
  {
   "cell_type": "code",
   "execution_count": 98,
   "metadata": {},
   "outputs": [
    {
     "name": "stdout",
     "output_type": "stream",
     "text": [
      "[[0.23223099 0.86668783 0.49068717 ... 0.56915889 0.64084644 0.76511881]\n",
      " [0.40130754 0.12511403 0.80029882 ... 0.65556164 0.65682571 0.73830427]\n",
      " [0.50577201 0.29973007 0.9664485  ... 0.05695182 0.21375511 0.23768066]\n",
      " ...\n",
      " [0.01430463 0.06911239 0.09709622 ... 0.31333414 0.79959621 0.55203082]\n",
      " [0.45222739 0.6006339  0.81559152 ... 0.12883778 0.12604453 0.86456412]\n",
      " [0.35289879 0.03496491 0.71341582 ... 0.72865455 0.52379088 0.20824996]]\n"
     ]
    }
   ],
   "source": [
    "matrix1 = np.random.rand(100, 100)\n",
    "np.savez(\"03_numpy_way.npz\", matrix1) #Write a npz file\n",
    "print(matrix1)"
   ]
  },
  {
   "cell_type": "code",
   "execution_count": 99,
   "metadata": {},
   "outputs": [],
   "source": [
    "data = np.load(\"03_numpy_way.npz\")"
   ]
  },
  {
   "cell_type": "markdown",
   "metadata": {},
   "source": [
    "The data returned in called a dictionary. We can check which datasets we have by "
   ]
  },
  {
   "cell_type": "code",
   "execution_count": 100,
   "metadata": {},
   "outputs": [
    {
     "name": "stdout",
     "output_type": "stream",
     "text": [
      "['arr_0']\n"
     ]
    }
   ],
   "source": [
    "print(list(data.keys()))"
   ]
  },
  {
   "cell_type": "markdown",
   "metadata": {},
   "source": [
    "But that is not the original name! Unfortunately, Python cannot automatically get the name of the variables. Thus, we need to specify when saving."
   ]
  },
  {
   "cell_type": "code",
   "execution_count": 101,
   "metadata": {},
   "outputs": [
    {
     "name": "stdout",
     "output_type": "stream",
     "text": [
      "['saved_matrix']\n"
     ]
    }
   ],
   "source": [
    "np.savez(\"03_numpy_way.npz\", saved_matrix=matrix1) #Write a npz file\n",
    "data = np.load(\"03_numpy_way.npz\")\n",
    "print(list(data.keys()))"
   ]
  },
  {
   "cell_type": "markdown",
   "metadata": {},
   "source": [
    "Now we are talking! All left for now is to print the saved matrix."
   ]
  },
  {
   "cell_type": "code",
   "execution_count": 102,
   "metadata": {},
   "outputs": [
    {
     "name": "stdout",
     "output_type": "stream",
     "text": [
      "[[0.23223099 0.86668783 0.49068717 ... 0.56915889 0.64084644 0.76511881]\n",
      " [0.40130754 0.12511403 0.80029882 ... 0.65556164 0.65682571 0.73830427]\n",
      " [0.50577201 0.29973007 0.9664485  ... 0.05695182 0.21375511 0.23768066]\n",
      " ...\n",
      " [0.01430463 0.06911239 0.09709622 ... 0.31333414 0.79959621 0.55203082]\n",
      " [0.45222739 0.6006339  0.81559152 ... 0.12883778 0.12604453 0.86456412]\n",
      " [0.35289879 0.03496491 0.71341582 ... 0.72865455 0.52379088 0.20824996]]\n"
     ]
    }
   ],
   "source": [
    "matrix = data['saved_matrix']\n",
    "print(matrix)"
   ]
  },
  {
   "cell_type": "markdown",
   "metadata": {},
   "source": [
    "Lets now do this for several matrices. "
   ]
  },
  {
   "cell_type": "code",
   "execution_count": 103,
   "metadata": {},
   "outputs": [],
   "source": [
    "matrix1 = np.random.rand(100, 100)\n",
    "matrix2 = np.random.rand(30, 52)\n",
    "matrix3 = np.random.rand(99, 128)\n",
    "matrix4 = np.random.rand(300, 1000)\n",
    "np.savez(\"03_numpy_way_multi.npz\", matrix1=matrix1, matrix2=matrix2, matrix3=matrix3, matrix4=matrix4)"
   ]
  },
  {
   "cell_type": "code",
   "execution_count": 104,
   "metadata": {},
   "outputs": [
    {
     "name": "stdout",
     "output_type": "stream",
     "text": [
      "['matrix1', 'matrix2', 'matrix3', 'matrix4']\n"
     ]
    }
   ],
   "source": [
    "data = np.load(\"03_numpy_way_multi.npz\")\n",
    "print(list(data.keys()))"
   ]
  },
  {
   "cell_type": "markdown",
   "metadata": {},
   "source": [
    "The gang is all here. If you are using only python, I strongly recommmend you consitently use plain files and/or npz files. However, the reality is that often another file format for data is commonly used: Excel files. They are not completely trivial to import in python, but we can do it. For this, we will use the Pandas library."
   ]
  },
  {
   "cell_type": "markdown",
   "metadata": {},
   "source": [
    "## Reading excel files"
   ]
  },
  {
   "cell_type": "markdown",
   "metadata": {},
   "source": [
    "In order to read/write data from Excel, we will use the `Pandas` library. This works by leveraging the `DataFrame` structure of Pandas. You can think of this data structure as a mix between the arrays from Numpy and Excel data. The largest change is that the `DataFrames` can have named rows/columns, which make them really useful for data science. As always, we want to keep the metadata close to the data.\n",
    "\n",
    "This is a good moment to open the file `03_scaling.xlsx` and explore its contents."
   ]
  },
  {
   "cell_type": "code",
   "execution_count": 105,
   "metadata": {},
   "outputs": [],
   "source": [
    "import pandas as pd\n",
    "import numpy as np"
   ]
  },
  {
   "cell_type": "code",
   "execution_count": 106,
   "metadata": {},
   "outputs": [],
   "source": [
    "data = pd.read_excel(\"./03_scaling.xlsx\")"
   ]
  },
  {
   "cell_type": "code",
   "execution_count": 107,
   "metadata": {},
   "outputs": [
    {
     "data": {
      "text/html": [
       "<div>\n",
       "<style scoped>\n",
       "    .dataframe tbody tr th:only-of-type {\n",
       "        vertical-align: middle;\n",
       "    }\n",
       "\n",
       "    .dataframe tbody tr th {\n",
       "        vertical-align: top;\n",
       "    }\n",
       "\n",
       "    .dataframe thead th {\n",
       "        text-align: right;\n",
       "    }\n",
       "</style>\n",
       "<table border=\"1\" class=\"dataframe\">\n",
       "  <thead>\n",
       "    <tr style=\"text-align: right;\">\n",
       "      <th></th>\n",
       "      <th>Cores</th>\n",
       "      <th>Speedup</th>\n",
       "    </tr>\n",
       "  </thead>\n",
       "  <tbody>\n",
       "    <tr>\n",
       "      <th>0</th>\n",
       "      <td>1</td>\n",
       "      <td>1.0</td>\n",
       "    </tr>\n",
       "    <tr>\n",
       "      <th>1</th>\n",
       "      <td>2</td>\n",
       "      <td>2.0</td>\n",
       "    </tr>\n",
       "    <tr>\n",
       "      <th>2</th>\n",
       "      <td>3</td>\n",
       "      <td>2.8</td>\n",
       "    </tr>\n",
       "    <tr>\n",
       "      <th>3</th>\n",
       "      <td>4</td>\n",
       "      <td>3.7</td>\n",
       "    </tr>\n",
       "    <tr>\n",
       "      <th>4</th>\n",
       "      <td>8</td>\n",
       "      <td>7.1</td>\n",
       "    </tr>\n",
       "    <tr>\n",
       "      <th>5</th>\n",
       "      <td>12</td>\n",
       "      <td>9.0</td>\n",
       "    </tr>\n",
       "    <tr>\n",
       "      <th>6</th>\n",
       "      <td>16</td>\n",
       "      <td>13.2</td>\n",
       "    </tr>\n",
       "  </tbody>\n",
       "</table>\n",
       "</div>"
      ],
      "text/plain": [
       "   Cores  Speedup\n",
       "0      1      1.0\n",
       "1      2      2.0\n",
       "2      3      2.8\n",
       "3      4      3.7\n",
       "4      8      7.1\n",
       "5     12      9.0\n",
       "6     16     13.2"
      ]
     },
     "execution_count": 107,
     "metadata": {},
     "output_type": "execute_result"
    }
   ],
   "source": [
    "data"
   ]
  },
  {
   "cell_type": "markdown",
   "metadata": {},
   "source": [
    "Now, we can select any given column using its name."
   ]
  },
  {
   "cell_type": "code",
   "execution_count": 108,
   "metadata": {},
   "outputs": [],
   "source": [
    "cores = data[\"Cores\"]"
   ]
  },
  {
   "cell_type": "markdown",
   "metadata": {},
   "source": [
    "Sometimes, we actually need a subsection of the full data. For this, we can use the `loc` method. This works very similarly to the array indexing in Numpy"
   ]
  },
  {
   "cell_type": "code",
   "execution_count": 109,
   "metadata": {},
   "outputs": [
    {
     "data": {
      "text/plain": [
       "Cores      1.0\n",
       "Speedup    1.0\n",
       "Name: 0, dtype: float64"
      ]
     },
     "execution_count": 109,
     "metadata": {},
     "output_type": "execute_result"
    }
   ],
   "source": [
    "data.loc[0, :]"
   ]
  },
  {
   "cell_type": "markdown",
   "metadata": {},
   "source": [
    "### Task: Select the speedup for `cores <= 4`"
   ]
  },
  {
   "cell_type": "code",
   "execution_count": 110,
   "metadata": {},
   "outputs": [
    {
     "data": {
      "text/plain": [
       "0    1.0\n",
       "1    2.0\n",
       "2    2.8\n",
       "3    3.7\n",
       "Name: Speedup, dtype: float64"
      ]
     },
     "execution_count": 110,
     "metadata": {},
     "output_type": "execute_result"
    }
   ],
   "source": [
    "data.loc[cores <= 4, \"Speedup\"]"
   ]
  },
  {
   "cell_type": "code",
   "execution_count": 111,
   "metadata": {},
   "outputs": [
    {
     "data": {
      "text/plain": [
       "0    1.0\n",
       "1    2.0\n",
       "2    2.8\n",
       "3    3.7\n",
       "Name: Speedup, dtype: float64"
      ]
     },
     "execution_count": 111,
     "metadata": {},
     "output_type": "execute_result"
    }
   ],
   "source": [
    "data.loc[data[\"Cores\"] <= 4, \"Speedup\"]"
   ]
  },
  {
   "cell_type": "markdown",
   "metadata": {},
   "source": [
    "### Files with more than one sheet"
   ]
  },
  {
   "cell_type": "markdown",
   "metadata": {},
   "source": [
    "Frequently, we aggregate several sheets into a single Excel file. By default, Pandas will read the first one of these, which is not necessarily what we want. There are several ways to handle this. \n",
    "\n",
    "First, we can tell Pandas to read the $i^{th}$ sheet"
   ]
  },
  {
   "cell_type": "code",
   "execution_count": 112,
   "metadata": {},
   "outputs": [],
   "source": [
    "data = pd.read_excel(\"./03_scaling_multiple.xlsx\", sheet_name=1)"
   ]
  },
  {
   "cell_type": "code",
   "execution_count": 113,
   "metadata": {},
   "outputs": [
    {
     "data": {
      "text/html": [
       "<div>\n",
       "<style scoped>\n",
       "    .dataframe tbody tr th:only-of-type {\n",
       "        vertical-align: middle;\n",
       "    }\n",
       "\n",
       "    .dataframe tbody tr th {\n",
       "        vertical-align: top;\n",
       "    }\n",
       "\n",
       "    .dataframe thead th {\n",
       "        text-align: right;\n",
       "    }\n",
       "</style>\n",
       "<table border=\"1\" class=\"dataframe\">\n",
       "  <thead>\n",
       "    <tr style=\"text-align: right;\">\n",
       "      <th></th>\n",
       "      <th>Cores</th>\n",
       "      <th>Speedup</th>\n",
       "    </tr>\n",
       "  </thead>\n",
       "  <tbody>\n",
       "    <tr>\n",
       "      <th>0</th>\n",
       "      <td>1</td>\n",
       "      <td>1.000</td>\n",
       "    </tr>\n",
       "    <tr>\n",
       "      <th>1</th>\n",
       "      <td>2</td>\n",
       "      <td>1.100</td>\n",
       "    </tr>\n",
       "    <tr>\n",
       "      <th>2</th>\n",
       "      <td>3</td>\n",
       "      <td>1.200</td>\n",
       "    </tr>\n",
       "    <tr>\n",
       "      <th>3</th>\n",
       "      <td>4</td>\n",
       "      <td>1.500</td>\n",
       "    </tr>\n",
       "    <tr>\n",
       "      <th>4</th>\n",
       "      <td>8</td>\n",
       "      <td>1.800</td>\n",
       "    </tr>\n",
       "    <tr>\n",
       "      <th>5</th>\n",
       "      <td>12</td>\n",
       "      <td>2.001</td>\n",
       "    </tr>\n",
       "    <tr>\n",
       "      <th>6</th>\n",
       "      <td>16</td>\n",
       "      <td>3.010</td>\n",
       "    </tr>\n",
       "  </tbody>\n",
       "</table>\n",
       "</div>"
      ],
      "text/plain": [
       "   Cores  Speedup\n",
       "0      1    1.000\n",
       "1      2    1.100\n",
       "2      3    1.200\n",
       "3      4    1.500\n",
       "4      8    1.800\n",
       "5     12    2.001\n",
       "6     16    3.010"
      ]
     },
     "execution_count": 113,
     "metadata": {},
     "output_type": "execute_result"
    }
   ],
   "source": [
    "data"
   ]
  },
  {
   "cell_type": "markdown",
   "metadata": {},
   "source": [
    "We can also explictly choose the sheet by its name"
   ]
  },
  {
   "cell_type": "code",
   "execution_count": 114,
   "metadata": {},
   "outputs": [],
   "source": [
    "data = pd.read_excel(\"./03_scaling_multiple.xlsx\", sheet_name=\"System2\")"
   ]
  },
  {
   "cell_type": "code",
   "execution_count": 115,
   "metadata": {},
   "outputs": [
    {
     "data": {
      "text/html": [
       "<div>\n",
       "<style scoped>\n",
       "    .dataframe tbody tr th:only-of-type {\n",
       "        vertical-align: middle;\n",
       "    }\n",
       "\n",
       "    .dataframe tbody tr th {\n",
       "        vertical-align: top;\n",
       "    }\n",
       "\n",
       "    .dataframe thead th {\n",
       "        text-align: right;\n",
       "    }\n",
       "</style>\n",
       "<table border=\"1\" class=\"dataframe\">\n",
       "  <thead>\n",
       "    <tr style=\"text-align: right;\">\n",
       "      <th></th>\n",
       "      <th>Cores</th>\n",
       "      <th>Speedup</th>\n",
       "    </tr>\n",
       "  </thead>\n",
       "  <tbody>\n",
       "    <tr>\n",
       "      <th>0</th>\n",
       "      <td>1</td>\n",
       "      <td>1.000</td>\n",
       "    </tr>\n",
       "    <tr>\n",
       "      <th>1</th>\n",
       "      <td>2</td>\n",
       "      <td>1.100</td>\n",
       "    </tr>\n",
       "    <tr>\n",
       "      <th>2</th>\n",
       "      <td>3</td>\n",
       "      <td>1.200</td>\n",
       "    </tr>\n",
       "    <tr>\n",
       "      <th>3</th>\n",
       "      <td>4</td>\n",
       "      <td>1.500</td>\n",
       "    </tr>\n",
       "    <tr>\n",
       "      <th>4</th>\n",
       "      <td>8</td>\n",
       "      <td>1.800</td>\n",
       "    </tr>\n",
       "    <tr>\n",
       "      <th>5</th>\n",
       "      <td>12</td>\n",
       "      <td>2.001</td>\n",
       "    </tr>\n",
       "    <tr>\n",
       "      <th>6</th>\n",
       "      <td>16</td>\n",
       "      <td>3.010</td>\n",
       "    </tr>\n",
       "  </tbody>\n",
       "</table>\n",
       "</div>"
      ],
      "text/plain": [
       "   Cores  Speedup\n",
       "0      1    1.000\n",
       "1      2    1.100\n",
       "2      3    1.200\n",
       "3      4    1.500\n",
       "4      8    1.800\n",
       "5     12    2.001\n",
       "6     16    3.010"
      ]
     },
     "execution_count": 115,
     "metadata": {},
     "output_type": "execute_result"
    }
   ],
   "source": [
    "data"
   ]
  },
  {
   "cell_type": "markdown",
   "metadata": {},
   "source": [
    "Even better, we can read the several sheets at once!"
   ]
  },
  {
   "cell_type": "code",
   "execution_count": 116,
   "metadata": {},
   "outputs": [],
   "source": [
    "datas = pd.read_excel(\"./03_scaling_multiple.xlsx\", sheet_name=[0,1])"
   ]
  },
  {
   "cell_type": "code",
   "execution_count": 117,
   "metadata": {},
   "outputs": [
    {
     "data": {
      "text/html": [
       "<div>\n",
       "<style scoped>\n",
       "    .dataframe tbody tr th:only-of-type {\n",
       "        vertical-align: middle;\n",
       "    }\n",
       "\n",
       "    .dataframe tbody tr th {\n",
       "        vertical-align: top;\n",
       "    }\n",
       "\n",
       "    .dataframe thead th {\n",
       "        text-align: right;\n",
       "    }\n",
       "</style>\n",
       "<table border=\"1\" class=\"dataframe\">\n",
       "  <thead>\n",
       "    <tr style=\"text-align: right;\">\n",
       "      <th></th>\n",
       "      <th>Cores</th>\n",
       "      <th>Speedup</th>\n",
       "    </tr>\n",
       "  </thead>\n",
       "  <tbody>\n",
       "    <tr>\n",
       "      <th>0</th>\n",
       "      <td>1</td>\n",
       "      <td>1.0</td>\n",
       "    </tr>\n",
       "    <tr>\n",
       "      <th>1</th>\n",
       "      <td>2</td>\n",
       "      <td>2.0</td>\n",
       "    </tr>\n",
       "    <tr>\n",
       "      <th>2</th>\n",
       "      <td>3</td>\n",
       "      <td>2.8</td>\n",
       "    </tr>\n",
       "    <tr>\n",
       "      <th>3</th>\n",
       "      <td>4</td>\n",
       "      <td>3.7</td>\n",
       "    </tr>\n",
       "    <tr>\n",
       "      <th>4</th>\n",
       "      <td>8</td>\n",
       "      <td>7.1</td>\n",
       "    </tr>\n",
       "    <tr>\n",
       "      <th>5</th>\n",
       "      <td>12</td>\n",
       "      <td>9.0</td>\n",
       "    </tr>\n",
       "    <tr>\n",
       "      <th>6</th>\n",
       "      <td>16</td>\n",
       "      <td>13.2</td>\n",
       "    </tr>\n",
       "  </tbody>\n",
       "</table>\n",
       "</div>"
      ],
      "text/plain": [
       "   Cores  Speedup\n",
       "0      1      1.0\n",
       "1      2      2.0\n",
       "2      3      2.8\n",
       "3      4      3.7\n",
       "4      8      7.1\n",
       "5     12      9.0\n",
       "6     16     13.2"
      ]
     },
     "execution_count": 117,
     "metadata": {},
     "output_type": "execute_result"
    }
   ],
   "source": [
    "data0 = datas[0]\n",
    "data0"
   ]
  },
  {
   "cell_type": "code",
   "execution_count": 118,
   "metadata": {},
   "outputs": [
    {
     "data": {
      "text/html": [
       "<div>\n",
       "<style scoped>\n",
       "    .dataframe tbody tr th:only-of-type {\n",
       "        vertical-align: middle;\n",
       "    }\n",
       "\n",
       "    .dataframe tbody tr th {\n",
       "        vertical-align: top;\n",
       "    }\n",
       "\n",
       "    .dataframe thead th {\n",
       "        text-align: right;\n",
       "    }\n",
       "</style>\n",
       "<table border=\"1\" class=\"dataframe\">\n",
       "  <thead>\n",
       "    <tr style=\"text-align: right;\">\n",
       "      <th></th>\n",
       "      <th>Cores</th>\n",
       "      <th>Speedup</th>\n",
       "    </tr>\n",
       "  </thead>\n",
       "  <tbody>\n",
       "    <tr>\n",
       "      <th>0</th>\n",
       "      <td>1</td>\n",
       "      <td>1.000</td>\n",
       "    </tr>\n",
       "    <tr>\n",
       "      <th>1</th>\n",
       "      <td>2</td>\n",
       "      <td>1.100</td>\n",
       "    </tr>\n",
       "    <tr>\n",
       "      <th>2</th>\n",
       "      <td>3</td>\n",
       "      <td>1.200</td>\n",
       "    </tr>\n",
       "    <tr>\n",
       "      <th>3</th>\n",
       "      <td>4</td>\n",
       "      <td>1.500</td>\n",
       "    </tr>\n",
       "    <tr>\n",
       "      <th>4</th>\n",
       "      <td>8</td>\n",
       "      <td>1.800</td>\n",
       "    </tr>\n",
       "    <tr>\n",
       "      <th>5</th>\n",
       "      <td>12</td>\n",
       "      <td>2.001</td>\n",
       "    </tr>\n",
       "    <tr>\n",
       "      <th>6</th>\n",
       "      <td>16</td>\n",
       "      <td>3.010</td>\n",
       "    </tr>\n",
       "  </tbody>\n",
       "</table>\n",
       "</div>"
      ],
      "text/plain": [
       "   Cores  Speedup\n",
       "0      1    1.000\n",
       "1      2    1.100\n",
       "2      3    1.200\n",
       "3      4    1.500\n",
       "4      8    1.800\n",
       "5     12    2.001\n",
       "6     16    3.010"
      ]
     },
     "execution_count": 118,
     "metadata": {},
     "output_type": "execute_result"
    }
   ],
   "source": [
    "data1 = datas[1]\n",
    "data1"
   ]
  },
  {
   "cell_type": "markdown",
   "metadata": {},
   "source": [
    "### Task: Try to do load both sheets at once, but using the name of the sheets: \"System1\" and \"System2\""
   ]
  },
  {
   "cell_type": "code",
   "execution_count": 119,
   "metadata": {},
   "outputs": [],
   "source": [
    "datas = pd.read_excel(\"./03_scaling_multiple.xlsx\", sheet_name=[\"System1\", \"System2\"])"
   ]
  },
  {
   "cell_type": "code",
   "execution_count": 120,
   "metadata": {
    "scrolled": true
   },
   "outputs": [
    {
     "data": {
      "text/html": [
       "<div>\n",
       "<style scoped>\n",
       "    .dataframe tbody tr th:only-of-type {\n",
       "        vertical-align: middle;\n",
       "    }\n",
       "\n",
       "    .dataframe tbody tr th {\n",
       "        vertical-align: top;\n",
       "    }\n",
       "\n",
       "    .dataframe thead th {\n",
       "        text-align: right;\n",
       "    }\n",
       "</style>\n",
       "<table border=\"1\" class=\"dataframe\">\n",
       "  <thead>\n",
       "    <tr style=\"text-align: right;\">\n",
       "      <th></th>\n",
       "      <th>Cores</th>\n",
       "      <th>Speedup</th>\n",
       "    </tr>\n",
       "  </thead>\n",
       "  <tbody>\n",
       "    <tr>\n",
       "      <th>0</th>\n",
       "      <td>1</td>\n",
       "      <td>1.0</td>\n",
       "    </tr>\n",
       "    <tr>\n",
       "      <th>1</th>\n",
       "      <td>2</td>\n",
       "      <td>2.0</td>\n",
       "    </tr>\n",
       "    <tr>\n",
       "      <th>2</th>\n",
       "      <td>3</td>\n",
       "      <td>2.8</td>\n",
       "    </tr>\n",
       "    <tr>\n",
       "      <th>3</th>\n",
       "      <td>4</td>\n",
       "      <td>3.7</td>\n",
       "    </tr>\n",
       "    <tr>\n",
       "      <th>4</th>\n",
       "      <td>8</td>\n",
       "      <td>7.1</td>\n",
       "    </tr>\n",
       "    <tr>\n",
       "      <th>5</th>\n",
       "      <td>12</td>\n",
       "      <td>9.0</td>\n",
       "    </tr>\n",
       "    <tr>\n",
       "      <th>6</th>\n",
       "      <td>16</td>\n",
       "      <td>13.2</td>\n",
       "    </tr>\n",
       "  </tbody>\n",
       "</table>\n",
       "</div>"
      ],
      "text/plain": [
       "   Cores  Speedup\n",
       "0      1      1.0\n",
       "1      2      2.0\n",
       "2      3      2.8\n",
       "3      4      3.7\n",
       "4      8      7.1\n",
       "5     12      9.0\n",
       "6     16     13.2"
      ]
     },
     "execution_count": 120,
     "metadata": {},
     "output_type": "execute_result"
    }
   ],
   "source": [
    "datas[\"System1\"]"
   ]
  },
  {
   "cell_type": "code",
   "execution_count": 121,
   "metadata": {
    "scrolled": true
   },
   "outputs": [
    {
     "data": {
      "text/html": [
       "<div>\n",
       "<style scoped>\n",
       "    .dataframe tbody tr th:only-of-type {\n",
       "        vertical-align: middle;\n",
       "    }\n",
       "\n",
       "    .dataframe tbody tr th {\n",
       "        vertical-align: top;\n",
       "    }\n",
       "\n",
       "    .dataframe thead th {\n",
       "        text-align: right;\n",
       "    }\n",
       "</style>\n",
       "<table border=\"1\" class=\"dataframe\">\n",
       "  <thead>\n",
       "    <tr style=\"text-align: right;\">\n",
       "      <th></th>\n",
       "      <th>Cores</th>\n",
       "      <th>Speedup</th>\n",
       "    </tr>\n",
       "  </thead>\n",
       "  <tbody>\n",
       "    <tr>\n",
       "      <th>0</th>\n",
       "      <td>1</td>\n",
       "      <td>1.000</td>\n",
       "    </tr>\n",
       "    <tr>\n",
       "      <th>1</th>\n",
       "      <td>2</td>\n",
       "      <td>1.100</td>\n",
       "    </tr>\n",
       "    <tr>\n",
       "      <th>2</th>\n",
       "      <td>3</td>\n",
       "      <td>1.200</td>\n",
       "    </tr>\n",
       "    <tr>\n",
       "      <th>3</th>\n",
       "      <td>4</td>\n",
       "      <td>1.500</td>\n",
       "    </tr>\n",
       "    <tr>\n",
       "      <th>4</th>\n",
       "      <td>8</td>\n",
       "      <td>1.800</td>\n",
       "    </tr>\n",
       "    <tr>\n",
       "      <th>5</th>\n",
       "      <td>12</td>\n",
       "      <td>2.001</td>\n",
       "    </tr>\n",
       "    <tr>\n",
       "      <th>6</th>\n",
       "      <td>16</td>\n",
       "      <td>3.010</td>\n",
       "    </tr>\n",
       "  </tbody>\n",
       "</table>\n",
       "</div>"
      ],
      "text/plain": [
       "   Cores  Speedup\n",
       "0      1    1.000\n",
       "1      2    1.100\n",
       "2      3    1.200\n",
       "3      4    1.500\n",
       "4      8    1.800\n",
       "5     12    2.001\n",
       "6     16    3.010"
      ]
     },
     "execution_count": 121,
     "metadata": {},
     "output_type": "execute_result"
    }
   ],
   "source": [
    "datas[\"System2\"]"
   ]
  },
  {
   "cell_type": "markdown",
   "metadata": {},
   "source": [
    "**Bonus**: Try passing `None` to `sheet_name`"
   ]
  },
  {
   "cell_type": "code",
   "execution_count": 122,
   "metadata": {},
   "outputs": [
    {
     "data": {
      "text/plain": [
       "OrderedDict([('System1',    Cores  Speedup\n",
       "              0      1      1.0\n",
       "              1      2      2.0\n",
       "              2      3      2.8\n",
       "              3      4      3.7\n",
       "              4      8      7.1\n",
       "              5     12      9.0\n",
       "              6     16     13.2), ('System2',    Cores  Speedup\n",
       "              0      1    1.000\n",
       "              1      2    1.100\n",
       "              2      3    1.200\n",
       "              3      4    1.500\n",
       "              4      8    1.800\n",
       "              5     12    2.001\n",
       "              6     16    3.010)])"
      ]
     },
     "execution_count": 122,
     "metadata": {},
     "output_type": "execute_result"
    }
   ],
   "source": [
    "datas = pd.read_excel(\"./03_scaling_multiple.xlsx\", sheet_name=None)\n",
    "datas"
   ]
  },
  {
   "cell_type": "markdown",
   "metadata": {},
   "source": [
    "## Manipulating the DataFrame"
   ]
  },
  {
   "cell_type": "markdown",
   "metadata": {},
   "source": [
    "As mentioned before, `DataFrame`s work in the same way a normal Numpy array"
   ]
  },
  {
   "cell_type": "code",
   "execution_count": 123,
   "metadata": {},
   "outputs": [],
   "source": [
    "data = pd.read_excel(\"./03_scaling.xlsx\")\n",
    "data[\"Cores\"]+= 1"
   ]
  },
  {
   "cell_type": "code",
   "execution_count": 124,
   "metadata": {},
   "outputs": [
    {
     "data": {
      "text/html": [
       "<div>\n",
       "<style scoped>\n",
       "    .dataframe tbody tr th:only-of-type {\n",
       "        vertical-align: middle;\n",
       "    }\n",
       "\n",
       "    .dataframe tbody tr th {\n",
       "        vertical-align: top;\n",
       "    }\n",
       "\n",
       "    .dataframe thead th {\n",
       "        text-align: right;\n",
       "    }\n",
       "</style>\n",
       "<table border=\"1\" class=\"dataframe\">\n",
       "  <thead>\n",
       "    <tr style=\"text-align: right;\">\n",
       "      <th></th>\n",
       "      <th>Cores</th>\n",
       "      <th>Speedup</th>\n",
       "    </tr>\n",
       "  </thead>\n",
       "  <tbody>\n",
       "    <tr>\n",
       "      <th>0</th>\n",
       "      <td>2</td>\n",
       "      <td>1.0</td>\n",
       "    </tr>\n",
       "    <tr>\n",
       "      <th>1</th>\n",
       "      <td>3</td>\n",
       "      <td>2.0</td>\n",
       "    </tr>\n",
       "    <tr>\n",
       "      <th>2</th>\n",
       "      <td>4</td>\n",
       "      <td>2.8</td>\n",
       "    </tr>\n",
       "    <tr>\n",
       "      <th>3</th>\n",
       "      <td>5</td>\n",
       "      <td>3.7</td>\n",
       "    </tr>\n",
       "    <tr>\n",
       "      <th>4</th>\n",
       "      <td>9</td>\n",
       "      <td>7.1</td>\n",
       "    </tr>\n",
       "    <tr>\n",
       "      <th>5</th>\n",
       "      <td>13</td>\n",
       "      <td>9.0</td>\n",
       "    </tr>\n",
       "    <tr>\n",
       "      <th>6</th>\n",
       "      <td>17</td>\n",
       "      <td>13.2</td>\n",
       "    </tr>\n",
       "  </tbody>\n",
       "</table>\n",
       "</div>"
      ],
      "text/plain": [
       "   Cores  Speedup\n",
       "0      2      1.0\n",
       "1      3      2.0\n",
       "2      4      2.8\n",
       "3      5      3.7\n",
       "4      9      7.1\n",
       "5     13      9.0\n",
       "6     17     13.2"
      ]
     },
     "execution_count": 124,
     "metadata": {},
     "output_type": "execute_result"
    }
   ],
   "source": [
    "data"
   ]
  },
  {
   "cell_type": "markdown",
   "metadata": {},
   "source": [
    "## Saving an Excel file"
   ]
  },
  {
   "cell_type": "markdown",
   "metadata": {},
   "source": [
    "Now that we manipulated the data, we can save it into a new file"
   ]
  },
  {
   "cell_type": "code",
   "execution_count": 125,
   "metadata": {},
   "outputs": [],
   "source": [
    "data.to_excel(\"03_scaling_extracores.xlsx\", sheet_name=\"System1\")"
   ]
  },
  {
   "cell_type": "markdown",
   "metadata": {},
   "source": [
    "However, with this method we can only save a single sheet per file. We can overcome this issue with the help of `ExcelWriter`, an utility class from Pandas"
   ]
  },
  {
   "cell_type": "code",
   "execution_count": 126,
   "metadata": {},
   "outputs": [],
   "source": [
    "# Read some data, just be sure we have something to work with\n",
    "# Normally, one would have manipulated the data before simply\n",
    "# rewriting\n",
    "datas = pd.read_excel(\"./03_scaling_multiple.xlsx\", sheet_name=[\"System1\", \"System2\"]) "
   ]
  },
  {
   "cell_type": "code",
   "execution_count": 127,
   "metadata": {},
   "outputs": [],
   "source": [
    "with pd.ExcelWriter('03_scaling_extracores_multiple.xlsx') as writer:\n",
    "    datas[\"System1\"].to_excel(writer, sheet_name=\"CoolNewSystem1\")\n",
    "    datas[\"System2\"].to_excel(writer, sheet_name=\"NotSoCoolSystem2\")"
   ]
  }
 ],
 "metadata": {
  "kernelspec": {
   "display_name": "Python 3",
   "language": "python",
   "name": "python3"
  },
  "language_info": {
   "codemirror_mode": {
    "name": "ipython",
    "version": 3
   },
   "file_extension": ".py",
   "mimetype": "text/x-python",
   "name": "python",
   "nbconvert_exporter": "python",
   "pygments_lexer": "ipython3",
   "version": "3.6.8"
  }
 },
 "nbformat": 4,
 "nbformat_minor": 2
}
