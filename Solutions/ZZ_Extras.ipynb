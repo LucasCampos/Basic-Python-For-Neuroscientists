{
 "cells": [
  {
   "cell_type": "markdown",
   "metadata": {},
   "source": [
    "# Timing\n",
    "\n",
    "Sometimes, we need to check how long an operation takes. This can be trivially done with the `%%time` cell magic from jupyter notebook"
   ]
  },
  {
   "cell_type": "code",
   "execution_count": 87,
   "metadata": {},
   "outputs": [],
   "source": [
    "import numpy as np"
   ]
  },
  {
   "cell_type": "code",
   "execution_count": 88,
   "metadata": {},
   "outputs": [
    {
     "name": "stdout",
     "output_type": "stream",
     "text": [
      "CPU times: user 11 s, sys: 1.52 s, total: 12.5 s\n",
      "Wall time: 1.88 s\n"
     ]
    }
   ],
   "source": [
    "%%time\n",
    "a = np.random.rand(10000, 1000)\n",
    "b = np.random.rand(1000, 10000)\n",
    "c = a@b # a @ b means matrix multiplication"
   ]
  },
  {
   "cell_type": "markdown",
   "metadata": {},
   "source": [
    "Normally, we are interested in the *wall time*. That is how long the system actually took to run, in the time measured from the clock on your wall. "
   ]
  },
  {
   "cell_type": "markdown",
   "metadata": {},
   "source": [
    "# Function fit\n",
    "\n",
    "A classic activity is, given a set of points (x,y), to find the parameters of a function $y = f(x)$ which describe the points. We can do this easily with Scipy. "
   ]
  },
  {
   "cell_type": "code",
   "execution_count": 89,
   "metadata": {},
   "outputs": [],
   "source": [
    "import numpy as np\n",
    "import scipy.optimize as spo\n",
    "import matplotlib.pyplot as plt"
   ]
  },
  {
   "cell_type": "markdown",
   "metadata": {},
   "source": [
    "First, we will define the function we want to be fitted. In this case, $f(x) = a \\exp(b x) + c$."
   ]
  },
  {
   "cell_type": "code",
   "execution_count": 90,
   "metadata": {},
   "outputs": [],
   "source": [
    "def f(x, a, b,c):\n",
    "    return a*np.exp(b*x) + c"
   ]
  },
  {
   "cell_type": "markdown",
   "metadata": {},
   "source": [
    "Now, we are going to generate some mock data, so we have something to test with"
   ]
  },
  {
   "cell_type": "code",
   "execution_count": 91,
   "metadata": {},
   "outputs": [],
   "source": [
    "a_mock = 300\n",
    "b_mock = -5\n",
    "c_mock = 3\n",
    "\n",
    "x = np.linspace(0, 1, 10)\n",
    "y = f(x, a_mock, b_mock, c_mock)"
   ]
  },
  {
   "cell_type": "code",
   "execution_count": 92,
   "metadata": {},
   "outputs": [
    {
     "data": {
      "text/plain": [
       "[<matplotlib.lines.Line2D at 0x7f7f2fd890f0>]"
      ]
     },
     "execution_count": 92,
     "metadata": {},
     "output_type": "execute_result"
    },
    {
     "data": {
      "image/png": "[encoded data removed]",
      "text/plain": [
       "<Figure size 432x288 with 1 Axes>"
      ]
     },
     "metadata": {},
     "output_type": "display_data"
    }
   ],
   "source": [
    "plt.plot(x,y, \".\")"
   ]
  },
  {
   "cell_type": "markdown",
   "metadata": {},
   "source": [
    "Now, we can use the `curve_fit` function from scipy to find the original parameters. This function returns an array with the best fitting parameters, in the same order defined in the function. That is, `opt[0]` = `a`, `opt[1]` = `b`, and `opt[2]` = `c`."
   ]
  },
  {
   "cell_type": "code",
   "execution_count": 93,
   "metadata": {},
   "outputs": [],
   "source": [
    "popt, _ = spo.curve_fit(f, x, y)\n",
    "a = popt[0]\n",
    "b = popt[1]\n",
    "c = popt[2]"
   ]
  },
  {
   "cell_type": "markdown",
   "metadata": {},
   "source": [
    "And now, lets see the fit"
   ]
  },
  {
   "cell_type": "code",
   "execution_count": 94,
   "metadata": {
    "scrolled": false
   },
   "outputs": [
    {
     "data": {
      "text/plain": [
       "[<matplotlib.lines.Line2D at 0x7f7f2fd5bda0>]"
      ]
     },
     "execution_count": 94,
     "metadata": {},
     "output_type": "execute_result"
    },
    {
     "data": {
      "image/png": "[encoded data removed]",
      "text/plain": [
       "<Figure size 432x288 with 1 Axes>"
      ]
     },
     "metadata": {},
     "output_type": "display_data"
    }
   ],
   "source": [
    "plt.plot(x,y, \".\")\n",
    "\n",
    "x_fine = np.linspace(0, 1, 100)\n",
    "plt.plot(x_fine, f(x_fine, a, b, c))"
   ]
  },
  {
   "cell_type": "markdown",
   "metadata": {},
   "source": [
    "The curve looks a bit too good. Lets make things harder for scipy and add some noise"
   ]
  },
  {
   "cell_type": "code",
   "execution_count": 95,
   "metadata": {},
   "outputs": [],
   "source": [
    "a_mock = 300\n",
    "b_mock = -5\n",
    "c_mock = 3\n",
    "\n",
    "x = np.linspace(0, 1, 10)\n",
    "y = f(x, a_mock, b_mock, c_mock)"
   ]
  },
  {
   "cell_type": "code",
   "execution_count": 96,
   "metadata": {},
   "outputs": [
    {
     "data": {
      "text/plain": [
       "[<matplotlib.lines.Line2D at 0x7f7f2fcc2898>]"
      ]
     },
     "execution_count": 96,
     "metadata": {},
     "output_type": "execute_result"
    },
    {
     "data": {
      "image/png": "[encoded data removed]",
      "text/plain": [
       "<Figure size 432x288 with 1 Axes>"
      ]
     },
     "metadata": {},
     "output_type": "display_data"
    }
   ],
   "source": [
    "noise = 2*np.random.rand(len(x)) -1 # An array of random numbers between -1 and 1\n",
    "y += 0.2*noise*y #add +- 20% of the value as noise\n",
    "\n",
    "plt.plot(x,y, \".\")"
   ]
  },
  {
   "cell_type": "code",
   "execution_count": 97,
   "metadata": {},
   "outputs": [
    {
     "name": "stdout",
     "output_type": "stream",
     "text": [
      "Found function f(x) = a*exp(b*x) + c with a = 332.4747123081145, b=-5.282945014660007, c=3.9491722775544087.\n"
     ]
    },
    {
     "data": {
      "text/plain": [
       "[<matplotlib.lines.Line2D at 0x7f7f2fc80748>]"
      ]
     },
     "execution_count": 97,
     "metadata": {},
     "output_type": "execute_result"
    },
    {
     "data": {
      "image/png": "[encoded data removed]",
      "text/plain": [
       "<Figure size 432x288 with 1 Axes>"
      ]
     },
     "metadata": {},
     "output_type": "display_data"
    }
   ],
   "source": [
    "popt, _ = spo.curve_fit(f, x, y)\n",
    "a = popt[0]\n",
    "b = popt[1]\n",
    "c = popt[2]\n",
    "\n",
    "print(f\"Found function f(x) = a*exp(b*x) + c with a = {a}, b={b}, c={c}.\")\n",
    "\n",
    "\n",
    "plt.plot(x,y, \".\")\n",
    "x_fine = np.linspace(0, 1, 100)\n",
    "plt.plot(x_fine, f(x_fine, a, b, c))"
   ]
  },
  {
   "cell_type": "markdown",
   "metadata": {},
   "source": [
    "As a side note, there are specialized functions to do linear/polynomial fit in Numpy (`polyfit`) and Scipy (`linregress`). If you know your system is one of those two, you probably should use that function instead."
   ]
  },
  {
   "cell_type": "markdown",
   "metadata": {},
   "source": [
    "## Task: Use more points in your fitting. How do the fitted parameters approach the real ones?"
   ]
  },
  {
   "cell_type": "code",
   "execution_count": 98,
   "metadata": {},
   "outputs": [
    {
     "name": "stdout",
     "output_type": "stream",
     "text": [
      "Found function f(x) = a*exp(b*x) + c with a = 288.77192419402576, b=-4.529731903136054, c=0.14489042311121028. We used 10 points\n",
      "Found function f(x) = a*exp(b*x) + c with a = 309.9659665103095, b=-5.036412318735732, c=2.754081743938143. We used 100 points\n",
      "Found function f(x) = a*exp(b*x) + c with a = 306.377849230423, b=-5.050008724326223, c=3.014005808812351. We used 1000 points\n",
      "Found function f(x) = a*exp(b*x) + c with a = 299.1543503275132, b=-4.974086421582814, c=2.8589359338530653. We used 10000 points\n",
      "Found function f(x) = a*exp(b*x) + c with a = 299.7146935358162, b=-4.994153650040753, c=2.9757159710897487. We used 100000 points\n",
      "CPU times: user 174 ms, sys: 0 ns, total: 174 ms\n",
      "Wall time: 173 ms\n"
     ]
    }
   ],
   "source": [
    "%%time \n",
    "a_mock = 300\n",
    "b_mock = -5\n",
    "c_mock = 3\n",
    "\n",
    "for n in [10, 100, 1000, 10000, 100000]:\n",
    "    x = np.linspace(0, 1, n)\n",
    "    y = f(x, a_mock, b_mock, c_mock)\n",
    "    noise = 2*np.random.rand(n) -1 # An array of random numbers between -1 and 1\n",
    "    y += 0.2*noise*y #add +- 20% of the value as noise\n",
    "    popt, _ = spo.curve_fit(f, x, y)\n",
    "    a = popt[0]\n",
    "    b = popt[1]\n",
    "    c = popt[2]\n",
    "\n",
    "    print(f\"Found function f(x) = a*exp(b*x) + c with a = {a}, b={b}, c={c}. We used {n} points\")"
   ]
  },
  {
   "cell_type": "markdown",
   "metadata": {},
   "source": [
    "## Bonus Task: Setting initial values\n",
    "\n",
    "It is possible that we have a good estimate about the values of the parameters of the funcion. Using this knowledge, the function has better odds of successfully finding values, and it is faster! We can input this guess into the `p0` entry of `curve_fit`. This should be an array, ordered with your initial guess for the value, in the same order as the output `popt`. \n",
    "\n",
    "In this task, we revisit the fitting of $f(x)$ with the following considerations:\n",
    "* $f(\\infty) = a \\exp(-\\infty) + c = a * 0 + c = c$\n",
    "* $f(0) = a \\exp(0) + c = a + c$\n",
    "\n",
    "Thus, we can use the last point as an estimate for $c$ and the first point $f(0)$  as an estimate for $a + c$. That is $a_0 = c - f(0)$. Estimate $b_0 = -1$ "
   ]
  },
  {
   "cell_type": "code",
   "execution_count": 99,
   "metadata": {},
   "outputs": [],
   "source": [
    "x = np.linspace(0, 1, 100)\n",
    "y = f(x, a_mock, b_mock, c_mock)\n",
    "noise = 2*np.random.rand(len(x)) -1 # An array of random numbers between -1 and 1\n",
    "y += 0.2*noise*y #add +- 20% of the value as noise"
   ]
  },
  {
   "cell_type": "code",
   "execution_count": 100,
   "metadata": {},
   "outputs": [],
   "source": [
    "c_0 = y[-1] # Get last point\n",
    "b_0 = -1\n",
    "a_0 = c_0 - y[0]\n",
    "\n",
    "p_0 = [a_0, b_0, c_0]"
   ]
  },
  {
   "cell_type": "code",
   "execution_count": 101,
   "metadata": {},
   "outputs": [],
   "source": [
    "popt, _ = spo.curve_fit(f, x, y, p_0)\n",
    "a = popt[0]\n",
    "b = popt[1]\n",
    "c = popt[2]"
   ]
  },
  {
   "cell_type": "code",
   "execution_count": 102,
   "metadata": {},
   "outputs": [
    {
     "name": "stdout",
     "output_type": "stream",
     "text": [
      "Found function f(x) = a*exp(b*x) + c with a = 302.0762765586533, b=-5.149730768026315, c=4.002050786646092.\n"
     ]
    },
    {
     "data": {
      "text/plain": [
       "[<matplotlib.lines.Line2D at 0x7f7f2fc6dba8>]"
      ]
     },
     "execution_count": 102,
     "metadata": {},
     "output_type": "execute_result"
    },
    {
     "data": {
      "image/png": "[encoded data removed]",
      "text/plain": [
       "<Figure size 432x288 with 1 Axes>"
      ]
     },
     "metadata": {},
     "output_type": "display_data"
    }
   ],
   "source": [
    "print(f\"Found function f(x) = a*exp(b*x) + c with a = {a}, b={b}, c={c}.\")\n",
    "\n",
    "\n",
    "plt.plot(x,y, \".\")\n",
    "x_fine = np.linspace(0, 1, 100)\n",
    "plt.plot(x_fine, f(x_fine, a, b, c))"
   ]
  },
  {
   "cell_type": "code",
   "execution_count": null,
   "metadata": {},
   "outputs": [],
   "source": []
  }
 ],
 "metadata": {
  "kernelspec": {
   "display_name": "Python 3",
   "language": "python",
   "name": "python3"
  },
  "language_info": {
   "codemirror_mode": {
    "name": "ipython",
    "version": 3
   },
   "file_extension": ".py",
   "mimetype": "text/x-python",
   "name": "python",
   "nbconvert_exporter": "python",
   "pygments_lexer": "ipython3",
   "version": "3.6.8"
  }
 },
 "nbformat": 4,
 "nbformat_minor": 2
}
