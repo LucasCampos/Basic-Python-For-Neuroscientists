{
 "cells": [
  {
   "cell_type": "markdown",
   "metadata": {},
   "source": [
    "# Timing\n",
    "\n",
    "Sometimes, we need to check how long an operation takes. This can be trivially done with the `%%time` cell magic from jupyter notebook"
   ]
  },
  {
   "cell_type": "code",
   "execution_count": null,
   "metadata": {},
   "outputs": [],
   "source": [
    "import numpy as np"
   ]
  },
  {
   "cell_type": "code",
   "execution_count": null,
   "metadata": {},
   "outputs": [],
   "source": [
    "%%time\n",
    "a = np.random.rand(10000, 1000)\n",
    "b = np.random.rand(1000, 10000)\n",
    "c = a@b # a @ b means matrix multiplication"
   ]
  },
  {
   "cell_type": "markdown",
   "metadata": {},
   "source": [
    "Normally, we are interested in the *wall time*. That is how long the system actually took to run, in the time measured from the clock on your wall. "
   ]
  },
  {
   "cell_type": "markdown",
   "metadata": {},
   "source": [
    "# Function fit\n",
    "\n",
    "A classic activity is, given a set of points (x,y), to find the parameters of a function $y = f(x)$ which describe the points. We can do this easily with Scipy. "
   ]
  },
  {
   "cell_type": "code",
   "execution_count": null,
   "metadata": {},
   "outputs": [],
   "source": [
    "import numpy as np\n",
    "import scipy.optimize as spo\n",
    "import matplotlib.pyplot as plt"
   ]
  },
  {
   "cell_type": "markdown",
   "metadata": {},
   "source": [
    "First, we will define the function we want to be fitted. In this case, $f(x) = a \\exp(b x) + c$."
   ]
  },
  {
   "cell_type": "code",
   "execution_count": null,
   "metadata": {},
   "outputs": [],
   "source": [
    "def f(x, a, b,c):\n",
    "    return a*np.exp(b*x) + c"
   ]
  },
  {
   "cell_type": "markdown",
   "metadata": {},
   "source": [
    "Now, we are going to generate some mock data, so we have something to test with"
   ]
  },
  {
   "cell_type": "code",
   "execution_count": null,
   "metadata": {},
   "outputs": [],
   "source": [
    "a_mock = 300\n",
    "b_mock = -5\n",
    "c_mock = 3\n",
    "\n",
    "x = np.linspace(0, 1, 10)\n",
    "y = f(x, a_mock, b_mock, c_mock)"
   ]
  },
  {
   "cell_type": "code",
   "execution_count": null,
   "metadata": {},
   "outputs": [],
   "source": [
    "plt.plot(x,y, \".\")"
   ]
  },
  {
   "cell_type": "markdown",
   "metadata": {},
   "source": [
    "Now, we can use the `curve_fit` function from scipy to find the original parameters. This function returns an array with the best fitting parameters, in the same order defined in the function. That is, `opt[0]` = `a`, `opt[1]` = `b`, and `opt[2]` = `c`."
   ]
  },
  {
   "cell_type": "code",
   "execution_count": null,
   "metadata": {},
   "outputs": [],
   "source": [
    "popt, _ = spo.curve_fit(f, x, y)\n",
    "a = popt[0]\n",
    "b = popt[1]\n",
    "c = popt[2]"
   ]
  },
  {
   "cell_type": "markdown",
   "metadata": {},
   "source": [
    "And now, lets see the fit"
   ]
  },
  {
   "cell_type": "code",
   "execution_count": null,
   "metadata": {
    "scrolled": false
   },
   "outputs": [],
   "source": [
    "plt.plot(x,y, \".\")\n",
    "\n",
    "x_fine = np.linspace(0, 1, 100)\n",
    "plt.plot(x_fine, f(x_fine, a, b, c))"
   ]
  },
  {
   "cell_type": "markdown",
   "metadata": {},
   "source": [
    "The curve looks a bit too good. Lets make things harder for scipy and add some noise"
   ]
  },
  {
   "cell_type": "code",
   "execution_count": null,
   "metadata": {},
   "outputs": [],
   "source": [
    "a_mock = 300\n",
    "b_mock = -5\n",
    "c_mock = 3\n",
    "\n",
    "x = np.linspace(0, 1, 10)\n",
    "y = f(x, a_mock, b_mock, c_mock)"
   ]
  },
  {
   "cell_type": "code",
   "execution_count": null,
   "metadata": {},
   "outputs": [],
   "source": [
    "noise = 2*np.random.rand(len(x)) -1 # An array of random numbers between -1 and 1\n",
    "y += 0.2*noise*y #add +- 20% of the value as noise\n",
    "\n",
    "plt.plot(x,y, \".\")"
   ]
  },
  {
   "cell_type": "code",
   "execution_count": null,
   "metadata": {},
   "outputs": [],
   "source": [
    "popt, _ = spo.curve_fit(f, x, y)\n",
    "a = popt[0]\n",
    "b = popt[1]\n",
    "c = popt[2]\n",
    "\n",
    "print(f\"Found function f(x) = a*exp(b*x) + c with a = {a}, b={b}, c={c}.\")\n",
    "\n",
    "\n",
    "plt.plot(x,y, \".\")\n",
    "x_fine = np.linspace(0, 1, 100)\n",
    "plt.plot(x_fine, f(x_fine, a, b, c))"
   ]
  },
  {
   "cell_type": "markdown",
   "metadata": {},
   "source": [
    "As a side note, there are specialized functions to do linear/polynomial fit in Numpy (`polyfit`) and Scipy (`linregress`). If you know your system is one of those two, you probably should use that function instead."
   ]
  },
  {
   "cell_type": "markdown",
   "metadata": {},
   "source": [
    "## Task: Use more points in your fitting. How do the fitted parameters approach the real ones?"
   ]
  },
  {
   "cell_type": "code",
   "execution_count": null,
   "metadata": {},
   "outputs": [],
   "source": []
  },
  {
   "cell_type": "markdown",
   "metadata": {},
   "source": [
    "## Bonus Task: Setting initial values\n",
    "\n",
    "It is possible that we have a good estimate about the values of the parameters of the funcion. Using this knowledge, the function has better odds of successfully finding values, and it is faster! We can input this guess into the `p0` entry of `curve_fit`. This should be an array, ordered with your initial guess for the value, in the same order as the output `popt`. \n",
    "\n",
    "In this task, we revisit the fitting of $f(x)$ with the following considerations:\n",
    "* $f(\\infty) = a \\exp(-\\infty) + c = a * 0 + c = c$\n",
    "* $f(0) = a \\exp(0) + c = a + c$\n",
    "\n",
    "Thus, we can use the last point as an estimate for $c$ and the first point $f(0)$  as an estimate for $a + c$. That is $a_0 = c - f(0)$. Estimate $b_0 = -1$ "
   ]
  },
  {
   "cell_type": "code",
   "execution_count": null,
   "metadata": {},
   "outputs": [],
   "source": []
  }
 ],
 "metadata": {
  "kernelspec": {
   "display_name": "Python 3",
   "language": "python",
   "name": "python3"
  },
  "language_info": {
   "codemirror_mode": {
    "name": "ipython",
    "version": 3
   },
   "file_extension": ".py",
   "mimetype": "text/x-python",
   "name": "python",
   "nbconvert_exporter": "python",
   "pygments_lexer": "ipython3",
   "version": "3.6.8"
  }
 },
 "nbformat": 4,
 "nbformat_minor": 2
}
